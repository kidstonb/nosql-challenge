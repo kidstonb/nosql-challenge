{
 "cells": [
  {
   "cell_type": "markdown",
   "id": "9a57c4c6",
   "metadata": {},
   "source": [
    "# Eat Safe, Love"
   ]
  },
  {
   "cell_type": "markdown",
   "id": "064ef857",
   "metadata": {},
   "source": [
    "## Notebook Set Up"
   ]
  },
  {
   "cell_type": "code",
   "execution_count": 6,
   "id": "3ecdd008",
   "metadata": {},
   "outputs": [],
   "source": [
    "# Import dependencies\n",
    "from pymongo import MongoClient\n",
    "from pprint import pprint\n",
    "import pandas as pd"
   ]
  },
  {
   "cell_type": "code",
   "execution_count": 7,
   "id": "59390c4a",
   "metadata": {},
   "outputs": [],
   "source": [
    "# Create an instance of MongoClient\n",
    "mongo = MongoClient(port=27017)"
   ]
  },
  {
   "cell_type": "code",
   "execution_count": 8,
   "id": "71e373c1",
   "metadata": {},
   "outputs": [],
   "source": [
    "# assign the uk_food database to a variable name\n",
    "uk_food = mongo['uk_food']"
   ]
  },
  {
   "cell_type": "code",
   "execution_count": 9,
   "id": "18ab463c",
   "metadata": {},
   "outputs": [
    {
     "name": "stdout",
     "output_type": "stream",
     "text": [
      "['establishments']\n"
     ]
    }
   ],
   "source": [
    "# review the collections in our database\n",
    "print(uk_food.list_collection_names())"
   ]
  },
  {
   "cell_type": "code",
   "execution_count": 10,
   "id": "11c9f11b",
   "metadata": {},
   "outputs": [],
   "source": [
    "# assign the collection to a variable\n",
    "uk = uk_food['establishments']"
   ]
  },
  {
   "cell_type": "markdown",
   "id": "d5671434",
   "metadata": {},
   "source": [
    "## Part 3: Exploratory Analysis\n",
    "Unless otherwise stated, for each question: \n",
    "* Use `count_documents` to display the number of documents contained in the result.\n",
    "* Display the first document in the results using `pprint`.\n",
    "* Convert the result to a Pandas DataFrame, print the number of rows in the DataFrame, and display the first 10 rows."
   ]
  },
  {
   "cell_type": "markdown",
   "id": "314bd884",
   "metadata": {},
   "source": [
    "### 1. Which establishments have a hygiene score equal to 20?"
   ]
  },
  {
   "cell_type": "code",
   "execution_count": 11,
   "id": "c2da7648",
   "metadata": {},
   "outputs": [
    {
     "name": "stdout",
     "output_type": "stream",
     "text": [
      "There are 41 establishments with a score 20 Hygiene score.\n",
      "{'BusinessName': 'The Chase Rest Home',\n",
      " '_id': ObjectId('63dc7a697e7e574922823066'),\n",
      " 'scores': {'Hygiene': 20}}\n"
     ]
    }
   ],
   "source": [
    "# Find the establishments with a hygiene score of 20\n",
    "query = {'scores.Hygiene': 20}\n",
    "fields = {'BusinessName':1,'scores.Hygiene':1}\n",
    "Hygiene = list(uk.find(query,fields))\n",
    "\n",
    "# Use count_documents to display the number of documents in the result\n",
    "print(f'There are {uk.count_documents(query)} establishments with a score 20 Hygiene score.')\n",
    "# Display the first document in the results using pprint\n",
    "pprint(Hygiene[0])"
   ]
  },
  {
   "cell_type": "code",
   "execution_count": 12,
   "id": "a6e5cece",
   "metadata": {},
   "outputs": [
    {
     "name": "stdout",
     "output_type": "stream",
     "text": [
      "There are 41 rows.\n"
     ]
    },
    {
     "data": {
      "text/html": [
       "<div>\n",
       "<style scoped>\n",
       "    .dataframe tbody tr th:only-of-type {\n",
       "        vertical-align: middle;\n",
       "    }\n",
       "\n",
       "    .dataframe tbody tr th {\n",
       "        vertical-align: top;\n",
       "    }\n",
       "\n",
       "    .dataframe thead th {\n",
       "        text-align: right;\n",
       "    }\n",
       "</style>\n",
       "<table border=\"1\" class=\"dataframe\">\n",
       "  <thead>\n",
       "    <tr style=\"text-align: right;\">\n",
       "      <th></th>\n",
       "      <th>_id</th>\n",
       "      <th>BusinessName</th>\n",
       "      <th>scores.Hygiene</th>\n",
       "    </tr>\n",
       "  </thead>\n",
       "  <tbody>\n",
       "    <tr>\n",
       "      <th>0</th>\n",
       "      <td>63dc7a697e7e574922823066</td>\n",
       "      <td>The Chase Rest Home</td>\n",
       "      <td>20</td>\n",
       "    </tr>\n",
       "    <tr>\n",
       "      <th>1</th>\n",
       "      <td>63dc7a697e7e5749228233e9</td>\n",
       "      <td>Brenalwood</td>\n",
       "      <td>20</td>\n",
       "    </tr>\n",
       "    <tr>\n",
       "      <th>2</th>\n",
       "      <td>63dc7a697e7e5749228236ef</td>\n",
       "      <td>Melrose Hotel</td>\n",
       "      <td>20</td>\n",
       "    </tr>\n",
       "    <tr>\n",
       "      <th>3</th>\n",
       "      <td>63dc7a697e7e5749228238e1</td>\n",
       "      <td>Seaford Pizza</td>\n",
       "      <td>20</td>\n",
       "    </tr>\n",
       "    <tr>\n",
       "      <th>4</th>\n",
       "      <td>63dc7a697e7e5749228238f1</td>\n",
       "      <td>Golden Palace</td>\n",
       "      <td>20</td>\n",
       "    </tr>\n",
       "    <tr>\n",
       "      <th>5</th>\n",
       "      <td>63dc7a697e7e574922824290</td>\n",
       "      <td>Ashby's Butchers</td>\n",
       "      <td>20</td>\n",
       "    </tr>\n",
       "    <tr>\n",
       "      <th>6</th>\n",
       "      <td>63dc7a697e7e5749228244b5</td>\n",
       "      <td>South Sea Express Cuisine</td>\n",
       "      <td>20</td>\n",
       "    </tr>\n",
       "    <tr>\n",
       "      <th>7</th>\n",
       "      <td>63dc7a697e7e5749228259db</td>\n",
       "      <td>Golden Palace</td>\n",
       "      <td>20</td>\n",
       "    </tr>\n",
       "    <tr>\n",
       "      <th>8</th>\n",
       "      <td>63dc7a697e7e574922825e1f</td>\n",
       "      <td>The Tulip Tree</td>\n",
       "      <td>20</td>\n",
       "    </tr>\n",
       "    <tr>\n",
       "      <th>9</th>\n",
       "      <td>63dc7a697e7e574922826632</td>\n",
       "      <td>F &amp; S</td>\n",
       "      <td>20</td>\n",
       "    </tr>\n",
       "  </tbody>\n",
       "</table>\n",
       "</div>"
      ],
      "text/plain": [
       "                        _id               BusinessName  scores.Hygiene\n",
       "0  63dc7a697e7e574922823066        The Chase Rest Home              20\n",
       "1  63dc7a697e7e5749228233e9                 Brenalwood              20\n",
       "2  63dc7a697e7e5749228236ef              Melrose Hotel              20\n",
       "3  63dc7a697e7e5749228238e1              Seaford Pizza              20\n",
       "4  63dc7a697e7e5749228238f1              Golden Palace              20\n",
       "5  63dc7a697e7e574922824290           Ashby's Butchers              20\n",
       "6  63dc7a697e7e5749228244b5  South Sea Express Cuisine              20\n",
       "7  63dc7a697e7e5749228259db              Golden Palace              20\n",
       "8  63dc7a697e7e574922825e1f             The Tulip Tree              20\n",
       "9  63dc7a697e7e574922826632                      F & S              20"
      ]
     },
     "execution_count": 12,
     "metadata": {},
     "output_type": "execute_result"
    }
   ],
   "source": [
    "# Convert the result to a Pandas DataFrame\n",
    "hygiene_df = pd.json_normalize(Hygiene)\n",
    "# Display the number of rows in the DataFrame\n",
    "print(f'There are {hygiene_df.count()[0]} rows.')\n",
    "# Display the first 10 rows of the DataFrame\n",
    "hygiene_df.head(10)"
   ]
  },
  {
   "cell_type": "markdown",
   "id": "0ef4395a",
   "metadata": {},
   "source": [
    "### 2. Which establishments in London have a `RatingValue` greater than or equal to 4?"
   ]
  },
  {
   "cell_type": "code",
   "execution_count": 13,
   "id": "856a6d5e",
   "metadata": {},
   "outputs": [],
   "source": [
    "# uk.find_one()"
   ]
  },
  {
   "cell_type": "code",
   "execution_count": 14,
   "id": "93c63829",
   "metadata": {},
   "outputs": [
    {
     "name": "stdout",
     "output_type": "stream",
     "text": [
      "number of documents is 34\n",
      "\n",
      "\n",
      "{'BusinessName': \"Charlie's\",\n",
      " 'LocalAuthorityName': 'City of London Corporation',\n",
      " 'RatingValue': '4',\n",
      " '_id': ObjectId('63dc7a697e7e574922824a7f')}\n"
     ]
    }
   ],
   "source": [
    "# Find the establishments with London as the Local Authority and has a RatingValue greater than or equal to 4.\n",
    "#Rating might be a string\n",
    "query = {'LocalAuthorityName':{'$regex':'Lond'}, 'RatingValue':{'$nin':['0','1','2','3']}} \n",
    "#{'$in':['4','5','6','7','8','9','10','11','12']}}\n",
    "fields = {'BusinessName':1, 'LocalAuthorityName':1, 'RatingValue':1}\n",
    "                                                            \n",
    "results_two = uk.find(query,fields)\n",
    "\n",
    "# Use count_documents to display the number of documents in the result\n",
    "print('number of documents is ' + str(uk.count_documents(query)))\n",
    "print('\\n')\n",
    "# Display the first document in the results using pprint\n",
    "pprint(results_two[0])"
   ]
  },
  {
   "cell_type": "code",
   "execution_count": 15,
   "id": "07e24ccb",
   "metadata": {},
   "outputs": [
    {
     "name": "stdout",
     "output_type": "stream",
     "text": [
      "There are 34 rows.\n"
     ]
    },
    {
     "data": {
      "text/html": [
       "<div>\n",
       "<style scoped>\n",
       "    .dataframe tbody tr th:only-of-type {\n",
       "        vertical-align: middle;\n",
       "    }\n",
       "\n",
       "    .dataframe tbody tr th {\n",
       "        vertical-align: top;\n",
       "    }\n",
       "\n",
       "    .dataframe thead th {\n",
       "        text-align: right;\n",
       "    }\n",
       "</style>\n",
       "<table border=\"1\" class=\"dataframe\">\n",
       "  <thead>\n",
       "    <tr style=\"text-align: right;\">\n",
       "      <th></th>\n",
       "      <th>_id</th>\n",
       "      <th>BusinessName</th>\n",
       "      <th>RatingValue</th>\n",
       "      <th>LocalAuthorityName</th>\n",
       "    </tr>\n",
       "  </thead>\n",
       "  <tbody>\n",
       "    <tr>\n",
       "      <th>0</th>\n",
       "      <td>63dc7a697e7e574922824a7f</td>\n",
       "      <td>Charlie's</td>\n",
       "      <td>4</td>\n",
       "      <td>City of London Corporation</td>\n",
       "    </tr>\n",
       "    <tr>\n",
       "      <th>1</th>\n",
       "      <td>63dc7a697e7e574922824da9</td>\n",
       "      <td>Mv City Cruises Erasmus</td>\n",
       "      <td>5</td>\n",
       "      <td>City of London Corporation</td>\n",
       "    </tr>\n",
       "    <tr>\n",
       "      <th>2</th>\n",
       "      <td>63dc7a697e7e5749228258f6</td>\n",
       "      <td>Benfleet Motor Yacht Club</td>\n",
       "      <td>4</td>\n",
       "      <td>City of London Corporation</td>\n",
       "    </tr>\n",
       "    <tr>\n",
       "      <th>3</th>\n",
       "      <td>63dc7a697e7e5749228266f0</td>\n",
       "      <td>Tilbury Seafarers Centre</td>\n",
       "      <td>5</td>\n",
       "      <td>City of London Corporation</td>\n",
       "    </tr>\n",
       "    <tr>\n",
       "      <th>4</th>\n",
       "      <td>63dc7a697e7e5749228266f5</td>\n",
       "      <td>Coombs Catering t/a The Lock and Key</td>\n",
       "      <td>5</td>\n",
       "      <td>City of London Corporation</td>\n",
       "    </tr>\n",
       "    <tr>\n",
       "      <th>5</th>\n",
       "      <td>63dc7a697e7e574922826e00</td>\n",
       "      <td>Mv Valulla</td>\n",
       "      <td>5</td>\n",
       "      <td>City of London Corporation</td>\n",
       "    </tr>\n",
       "    <tr>\n",
       "      <th>6</th>\n",
       "      <td>63dc7a6a7e7e574922828f09</td>\n",
       "      <td>Froottree</td>\n",
       "      <td>AwaitingInspection</td>\n",
       "      <td>City of London Corporation</td>\n",
       "    </tr>\n",
       "    <tr>\n",
       "      <th>7</th>\n",
       "      <td>63dc7a6a7e7e574922828f0c</td>\n",
       "      <td>Tereza Joanne</td>\n",
       "      <td>5</td>\n",
       "      <td>City of London Corporation</td>\n",
       "    </tr>\n",
       "    <tr>\n",
       "      <th>8</th>\n",
       "      <td>63dc7a6a7e7e5749228292d3</td>\n",
       "      <td>Brick Lane Brews</td>\n",
       "      <td>4</td>\n",
       "      <td>City of London Corporation</td>\n",
       "    </tr>\n",
       "    <tr>\n",
       "      <th>9</th>\n",
       "      <td>63dc7a6a7e7e5749228292ea</td>\n",
       "      <td>City Bar &amp; Grill</td>\n",
       "      <td>5</td>\n",
       "      <td>City of London Corporation</td>\n",
       "    </tr>\n",
       "  </tbody>\n",
       "</table>\n",
       "</div>"
      ],
      "text/plain": [
       "                        _id                          BusinessName  \\\n",
       "0  63dc7a697e7e574922824a7f                             Charlie's   \n",
       "1  63dc7a697e7e574922824da9               Mv City Cruises Erasmus   \n",
       "2  63dc7a697e7e5749228258f6             Benfleet Motor Yacht Club   \n",
       "3  63dc7a697e7e5749228266f0              Tilbury Seafarers Centre   \n",
       "4  63dc7a697e7e5749228266f5  Coombs Catering t/a The Lock and Key   \n",
       "5  63dc7a697e7e574922826e00                            Mv Valulla   \n",
       "6  63dc7a6a7e7e574922828f09                             Froottree   \n",
       "7  63dc7a6a7e7e574922828f0c                         Tereza Joanne   \n",
       "8  63dc7a6a7e7e5749228292d3                      Brick Lane Brews   \n",
       "9  63dc7a6a7e7e5749228292ea                      City Bar & Grill   \n",
       "\n",
       "          RatingValue          LocalAuthorityName  \n",
       "0                   4  City of London Corporation  \n",
       "1                   5  City of London Corporation  \n",
       "2                   4  City of London Corporation  \n",
       "3                   5  City of London Corporation  \n",
       "4                   5  City of London Corporation  \n",
       "5                   5  City of London Corporation  \n",
       "6  AwaitingInspection  City of London Corporation  \n",
       "7                   5  City of London Corporation  \n",
       "8                   4  City of London Corporation  \n",
       "9                   5  City of London Corporation  "
      ]
     },
     "execution_count": 15,
     "metadata": {},
     "output_type": "execute_result"
    }
   ],
   "source": [
    "# Convert the result to a Pandas DataFrame\n",
    "df_two = pd.DataFrame(results_two)\n",
    "# Display the number of rows in the DataFrame\n",
    "print(f'There are {df_two.count()[0]} rows.')\n",
    "# Display the first 10 rows of the DataFrame\n",
    "df_two.head(10)"
   ]
  },
  {
   "cell_type": "markdown",
   "id": "4e570caf",
   "metadata": {},
   "source": [
    "### 3. What are the top 5 establishments with a `RatingValue` rating value of '5', sorted by lowest hygiene score, nearest to the new restaurant added, \"Penang Flavours\"?"
   ]
  },
  {
   "cell_type": "code",
   "execution_count": 16,
   "id": "4fa369b6",
   "metadata": {},
   "outputs": [
    {
     "data": {
      "text/plain": [
       "{'_id': ObjectId('63dc7b3cac4e31d449fd0acd'),\n",
       " 'geocode': {'longitude': Decimal128('0.08384000'),\n",
       "  'latitude': Decimal128('51.49014200')}}"
      ]
     },
     "execution_count": 16,
     "metadata": {},
     "output_type": "execute_result"
    }
   ],
   "source": [
    "query = {'BusinessName':'Penang Flavours'};\n",
    "fields = {'geocode.latitude':1,'geocode.longitude':1}\n",
    "uk.find_one(query,fields)"
   ]
  },
  {
   "cell_type": "code",
   "execution_count": 17,
   "id": "7f599f3d",
   "metadata": {},
   "outputs": [
    {
     "name": "stdout",
     "output_type": "stream",
     "text": [
      "[{'BusinessName': 'Magic Wok',\n",
      "  'RatingValue': '5',\n",
      "  '_id': ObjectId('63dc7a697e7e5749228267c7'),\n",
      "  'geocode': {'latitude': Decimal128('51.196736'),\n",
      "              'longitude': Decimal128('0.065179')},\n",
      "  'scores': {'Hygiene': None}},\n",
      " {'BusinessName': 'Roochi Ltd',\n",
      "  'RatingValue': '5',\n",
      "  '_id': ObjectId('63dc7a697e7e57492282603a'),\n",
      "  'geocode': {'latitude': Decimal128('51.097521'),\n",
      "              'longitude': Decimal128('0.034461')},\n",
      "  'scores': {'Hygiene': None}},\n",
      " {'BusinessName': 'Wolfe House Resid. Home',\n",
      "  'RatingValue': '5',\n",
      "  '_id': ObjectId('63dc7a697e7e574922827095'),\n",
      "  'geocode': {'latitude': Decimal128('51.255431'),\n",
      "              'longitude': Decimal128('0.015813')},\n",
      "  'scores': {'Hygiene': None}},\n",
      " {'BusinessName': 'Sultan Kebab House',\n",
      "  'RatingValue': '5',\n",
      "  '_id': ObjectId('63dc7a697e7e574922826c50'),\n",
      "  'geocode': {'latitude': Decimal128('51.266922'),\n",
      "              'longitude': Decimal128('0.070589')},\n",
      "  'scores': {'Hygiene': None}},\n",
      " {'BusinessName': 'Northall CPC',\n",
      "  'RatingValue': '5',\n",
      "  '_id': ObjectId('63dc7a697e7e5749228258c8'),\n",
      "  'geocode': {'latitude': Decimal128('51.006613'),\n",
      "              'longitude': Decimal128('0.022783')},\n",
      "  'scores': {'Hygiene': None}}]\n"
     ]
    }
   ],
   "source": [
    "# Search within 0.01 degree on either side of the latitude and longitude.\n",
    "# Rating value must equal 5\n",
    "# Sort by hygiene score\n",
    "\n",
    "degree_search = 0.01\n",
    "latitude_low = 51.49014200 - degree_search\n",
    "latitude_high = 51.49014200 + degree_search\n",
    "longitude_low = 0.08384000 - degree_search\n",
    "longitude_high = 0.08384000 + degree_search\n",
    "\n",
    "# query = {'$match':{'RatingValue':'5'},'$match'}\n",
    "# sort =  {'$sort':{'scores.Hygiene':1}}\n",
    "\n",
    "query = {'RatingValue':'5',\\\n",
    "         'geocode.latitude':{'$gte':latitude_low},\\\n",
    "        'geocode.latitude':{'$lte':latitude_high},\\\n",
    "         'geocode.longitude':{'$gte':longitude_low},\\\n",
    "         'geocode.longitude':{'$lte':longitude_high}\\\n",
    "        }\n",
    "fields = {'BusinessName':1,'RatingValue':1,'scores.Hygiene':1,'geocode.latitude':1,'geocode.longitude':1}\n",
    "sort = [('scores.Hygiene',1)]\n",
    "limit = 5\n",
    "# Print the results\n",
    "results_three = list(uk.find(query,fields).sort(sort).limit(limit))\n",
    "\n",
    "pprint(results_three)"
   ]
  },
  {
   "cell_type": "code",
   "execution_count": 18,
   "id": "a6ad16f7",
   "metadata": {},
   "outputs": [
    {
     "name": "stdout",
     "output_type": "stream",
     "text": [
      "There are 5 rows.\n"
     ]
    },
    {
     "data": {
      "text/html": [
       "<div>\n",
       "<style scoped>\n",
       "    .dataframe tbody tr th:only-of-type {\n",
       "        vertical-align: middle;\n",
       "    }\n",
       "\n",
       "    .dataframe tbody tr th {\n",
       "        vertical-align: top;\n",
       "    }\n",
       "\n",
       "    .dataframe thead th {\n",
       "        text-align: right;\n",
       "    }\n",
       "</style>\n",
       "<table border=\"1\" class=\"dataframe\">\n",
       "  <thead>\n",
       "    <tr style=\"text-align: right;\">\n",
       "      <th></th>\n",
       "      <th>_id</th>\n",
       "      <th>BusinessName</th>\n",
       "      <th>RatingValue</th>\n",
       "      <th>scores.Hygiene</th>\n",
       "      <th>geocode.longitude</th>\n",
       "      <th>geocode.latitude</th>\n",
       "    </tr>\n",
       "  </thead>\n",
       "  <tbody>\n",
       "    <tr>\n",
       "      <th>0</th>\n",
       "      <td>63dc7a697e7e5749228267c7</td>\n",
       "      <td>Magic Wok</td>\n",
       "      <td>5</td>\n",
       "      <td>None</td>\n",
       "      <td>0.065179</td>\n",
       "      <td>51.196736</td>\n",
       "    </tr>\n",
       "    <tr>\n",
       "      <th>1</th>\n",
       "      <td>63dc7a697e7e57492282603a</td>\n",
       "      <td>Roochi Ltd</td>\n",
       "      <td>5</td>\n",
       "      <td>None</td>\n",
       "      <td>0.034461</td>\n",
       "      <td>51.097521</td>\n",
       "    </tr>\n",
       "    <tr>\n",
       "      <th>2</th>\n",
       "      <td>63dc7a697e7e574922827095</td>\n",
       "      <td>Wolfe House Resid. Home</td>\n",
       "      <td>5</td>\n",
       "      <td>None</td>\n",
       "      <td>0.015813</td>\n",
       "      <td>51.255431</td>\n",
       "    </tr>\n",
       "    <tr>\n",
       "      <th>3</th>\n",
       "      <td>63dc7a697e7e574922826c50</td>\n",
       "      <td>Sultan Kebab House</td>\n",
       "      <td>5</td>\n",
       "      <td>None</td>\n",
       "      <td>0.070589</td>\n",
       "      <td>51.266922</td>\n",
       "    </tr>\n",
       "    <tr>\n",
       "      <th>4</th>\n",
       "      <td>63dc7a697e7e5749228258c8</td>\n",
       "      <td>Northall CPC</td>\n",
       "      <td>5</td>\n",
       "      <td>None</td>\n",
       "      <td>0.022783</td>\n",
       "      <td>51.006613</td>\n",
       "    </tr>\n",
       "  </tbody>\n",
       "</table>\n",
       "</div>"
      ],
      "text/plain": [
       "                        _id             BusinessName RatingValue  \\\n",
       "0  63dc7a697e7e5749228267c7                Magic Wok           5   \n",
       "1  63dc7a697e7e57492282603a               Roochi Ltd           5   \n",
       "2  63dc7a697e7e574922827095  Wolfe House Resid. Home           5   \n",
       "3  63dc7a697e7e574922826c50       Sultan Kebab House           5   \n",
       "4  63dc7a697e7e5749228258c8             Northall CPC           5   \n",
       "\n",
       "  scores.Hygiene geocode.longitude geocode.latitude  \n",
       "0           None          0.065179        51.196736  \n",
       "1           None          0.034461        51.097521  \n",
       "2           None          0.015813        51.255431  \n",
       "3           None          0.070589        51.266922  \n",
       "4           None          0.022783        51.006613  "
      ]
     },
     "execution_count": 18,
     "metadata": {},
     "output_type": "execute_result"
    }
   ],
   "source": [
    "# Convert result to Pandas DataFrame\n",
    "df_three = pd.json_normalize(results_three)\n",
    "print(f'There are {df_three.count()[0]} rows.')\n",
    "df_three"
   ]
  },
  {
   "cell_type": "markdown",
   "id": "67281254",
   "metadata": {},
   "source": [
    "### 4. How many establishments in each Local Authority area have a hygiene score of 0?"
   ]
  },
  {
   "cell_type": "code",
   "execution_count": 19,
   "id": "4eeb227e",
   "metadata": {},
   "outputs": [
    {
     "name": "stdout",
     "output_type": "stream",
     "text": [
      "There are 55 documents in this result\n",
      "\n",
      "[{'_id': {'LocalAuthorityName': 'Thanet'}, 'count': 1130},\n",
      " {'_id': {'LocalAuthorityName': 'Greenwich'}, 'count': 882},\n",
      " {'_id': {'LocalAuthorityName': 'Maidstone'}, 'count': 713},\n",
      " {'_id': {'LocalAuthorityName': 'Newham'}, 'count': 711},\n",
      " {'_id': {'LocalAuthorityName': 'Swale'}, 'count': 686},\n",
      " {'_id': {'LocalAuthorityName': 'Chelmsford'}, 'count': 680},\n",
      " {'_id': {'LocalAuthorityName': 'Medway'}, 'count': 672},\n",
      " {'_id': {'LocalAuthorityName': 'Bexley'}, 'count': 607},\n",
      " {'_id': {'LocalAuthorityName': 'Southend-On-Sea'}, 'count': 586},\n",
      " {'_id': {'LocalAuthorityName': 'Tendring'}, 'count': 542}]\n"
     ]
    }
   ],
   "source": [
    "# Create a pipeline that: \n",
    "# 1. Matches establishments with a hygiene score of 0\n",
    "# 2. Groups the matches by Local Authority\n",
    "# 3. Sorts the matches from highest to lowest\n",
    "match_query = {'$match':{'scores.Hygiene':0}}\n",
    "group_query = {'$group':{'_id':{'LocalAuthorityName':'$LocalAuthorityName'},'count':{'$sum':1}}}\n",
    "sort_values = {'$sort':{'count':-1}}\n",
    "pipeline = [match_query, group_query, sort_values]\n",
    "\n",
    "# {\"$group\": {\"_id\": None, \"total\": {\"$sum\": 1}, \"details\":{\"$push\":{\"groupby\": \"$_id\", \"count\": \"$count\"}}}}\n",
    "\n",
    "results_four = list(uk.aggregate(pipeline))\n",
    "\n",
    "# Print the number of documents in the result\n",
    "print(f'There are {len(results_four)} documents in this result\\n')\n",
    "# Print the first 10 results\n",
    "pprint(results_four[0:10])"
   ]
  },
  {
   "cell_type": "code",
   "execution_count": 20,
   "id": "d8aab364",
   "metadata": {},
   "outputs": [
    {
     "name": "stdout",
     "output_type": "stream",
     "text": [
      "There are 55 rows.\n"
     ]
    },
    {
     "data": {
      "text/html": [
       "<div>\n",
       "<style scoped>\n",
       "    .dataframe tbody tr th:only-of-type {\n",
       "        vertical-align: middle;\n",
       "    }\n",
       "\n",
       "    .dataframe tbody tr th {\n",
       "        vertical-align: top;\n",
       "    }\n",
       "\n",
       "    .dataframe thead th {\n",
       "        text-align: right;\n",
       "    }\n",
       "</style>\n",
       "<table border=\"1\" class=\"dataframe\">\n",
       "  <thead>\n",
       "    <tr style=\"text-align: right;\">\n",
       "      <th></th>\n",
       "      <th>count</th>\n",
       "      <th>_id.LocalAuthorityName</th>\n",
       "    </tr>\n",
       "  </thead>\n",
       "  <tbody>\n",
       "    <tr>\n",
       "      <th>0</th>\n",
       "      <td>1130</td>\n",
       "      <td>Thanet</td>\n",
       "    </tr>\n",
       "    <tr>\n",
       "      <th>1</th>\n",
       "      <td>882</td>\n",
       "      <td>Greenwich</td>\n",
       "    </tr>\n",
       "    <tr>\n",
       "      <th>2</th>\n",
       "      <td>713</td>\n",
       "      <td>Maidstone</td>\n",
       "    </tr>\n",
       "    <tr>\n",
       "      <th>3</th>\n",
       "      <td>711</td>\n",
       "      <td>Newham</td>\n",
       "    </tr>\n",
       "    <tr>\n",
       "      <th>4</th>\n",
       "      <td>686</td>\n",
       "      <td>Swale</td>\n",
       "    </tr>\n",
       "    <tr>\n",
       "      <th>5</th>\n",
       "      <td>680</td>\n",
       "      <td>Chelmsford</td>\n",
       "    </tr>\n",
       "    <tr>\n",
       "      <th>6</th>\n",
       "      <td>672</td>\n",
       "      <td>Medway</td>\n",
       "    </tr>\n",
       "    <tr>\n",
       "      <th>7</th>\n",
       "      <td>607</td>\n",
       "      <td>Bexley</td>\n",
       "    </tr>\n",
       "    <tr>\n",
       "      <th>8</th>\n",
       "      <td>586</td>\n",
       "      <td>Southend-On-Sea</td>\n",
       "    </tr>\n",
       "    <tr>\n",
       "      <th>9</th>\n",
       "      <td>542</td>\n",
       "      <td>Tendring</td>\n",
       "    </tr>\n",
       "  </tbody>\n",
       "</table>\n",
       "</div>"
      ],
      "text/plain": [
       "   count _id.LocalAuthorityName\n",
       "0   1130                 Thanet\n",
       "1    882              Greenwich\n",
       "2    713              Maidstone\n",
       "3    711                 Newham\n",
       "4    686                  Swale\n",
       "5    680             Chelmsford\n",
       "6    672                 Medway\n",
       "7    607                 Bexley\n",
       "8    586        Southend-On-Sea\n",
       "9    542               Tendring"
      ]
     },
     "execution_count": 20,
     "metadata": {},
     "output_type": "execute_result"
    }
   ],
   "source": [
    "# Convert the result to a Pandas DataFrame\n",
    "df_four = pd.json_normalize(results_four)\n",
    "# Display the number of rows in the DataFrame\n",
    "print(f'There are {df_four.count()[0]} rows.')\n",
    "# Display the first 10 rows of the DataFrame\n",
    "df_four.head(10)"
   ]
  },
  {
   "cell_type": "code",
   "execution_count": null,
   "id": "119d8537",
   "metadata": {},
   "outputs": [],
   "source": []
  }
 ],
 "metadata": {
  "kernelspec": {
   "display_name": "Python 3 (ipykernel)",
   "language": "python",
   "name": "python3"
  },
  "language_info": {
   "codemirror_mode": {
    "name": "ipython",
    "version": 3
   },
   "file_extension": ".py",
   "mimetype": "text/x-python",
   "name": "python",
   "nbconvert_exporter": "python",
   "pygments_lexer": "ipython3",
   "version": "3.9.12"
  }
 },
 "nbformat": 4,
 "nbformat_minor": 5
}
